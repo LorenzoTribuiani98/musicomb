{
 "cells": [
  {
   "cell_type": "code",
   "execution_count": 2,
   "metadata": {},
   "outputs": [],
   "source": [
    "import pandas as pd\n",
    "\n",
    "df = pd.read_csv('dataset/commu_meta.csv')"
   ]
  },
  {
   "cell_type": "code",
   "execution_count": 7,
   "metadata": {},
   "outputs": [
    {
     "data": {
      "text/plain": [
       "'string_ensemble'"
      ]
     },
     "execution_count": 7,
     "metadata": {},
     "output_type": "execute_result"
    }
   ],
   "source": [
    "df[df['id'] == 'commu00001']['inst'].values[0]"
   ]
  },
  {
   "cell_type": "code",
   "execution_count": 6,
   "metadata": {},
   "outputs": [
    {
     "data": {
      "text/plain": [
       "8     7233\n",
       "4     2710\n",
       "16    1042\n",
       "9       80\n",
       "17      77\n",
       "5        2\n",
       "Name: num_measures, dtype: int64"
      ]
     },
     "metadata": {},
     "output_type": "display_data"
    }
   ],
   "source": [
    "df['num_measures'].value_counts()"
   ]
  },
  {
   "cell_type": "code",
   "execution_count": 9,
   "metadata": {},
   "outputs": [
    {
     "data": {
      "text/plain": [
       "acoustic_piano                  3935\n",
       "string_ensemble                 3115\n",
       "synth_pad                        461\n",
       "celesta                          421\n",
       "string_cello                     421\n",
       "brass_ensemble                   329\n",
       "string_violin                    302\n",
       "flute                            255\n",
       "acoustic_guitar                  214\n",
       "harp                             190\n",
       "string_cello-2                   156\n",
       "synth_pad-2                      124\n",
       "horn                              89\n",
       "clarinet                          79\n",
       "synth_pad-3                       55\n",
       "accordion                         53\n",
       "string_cello-3                    44\n",
       "flute-2                           43\n",
       "string_violin-2                   39\n",
       "string_violin-3                   37\n",
       "timpani                           32\n",
       "synth_pluck                       27\n",
       "acoustic_piano-2                  26\n",
       "glockenspiel                      26\n",
       "synth_pad-5                       24\n",
       "string_double_bass                24\n",
       "clarinet-2                        21\n",
       "string_double_bass-2              21\n",
       "electric_guitar_distortion        21\n",
       "harp-2                            19\n",
       "string_ensemble-2                 19\n",
       "choir                             19\n",
       "acoustic_bass                     18\n",
       "vibraphone                        17\n",
       "oboe                              15\n",
       "synth_pad-4                       15\n",
       "electric_piano                    15\n",
       "trombone                          14\n",
       "synth_bass                        14\n",
       "electric_guitar_distortion-3      13\n",
       "synth_bass-2                      12\n",
       "vibraphone-2                      11\n",
       "string_viola                      11\n",
       "bassoon                           11\n",
       "electric_guitar_distortion-2      10\n",
       "electric_bass                     10\n",
       "trombone-2                        10\n",
       "glockenspiel-2                    10\n",
       "string_double_bass-3               9\n",
       "bassoon-2                          9\n",
       "synth_bell                         9\n",
       "acoustic_piano-3                   8\n",
       "electric_guitar_clean              8\n",
       "horn-4                             8\n",
       "nylon_guitar                       8\n",
       "tuba-2                             8\n",
       "acoustic_bass-2                    8\n",
       "tuba-3                             8\n",
       "marimba                            7\n",
       "synth_pad-7                        7\n",
       "horn-3                             7\n",
       "synth_pluck-2                      7\n",
       "nylon_guitar-2                     6\n",
       "synth_pad-6                        6\n",
       "synth_pluck-3                      6\n",
       "synth_pluck-6                      6\n",
       "synth_pluck-5                      6\n",
       "electric_guitar_distortion-4       6\n",
       "synth_voice                        6\n",
       "tuba-5                             6\n",
       "synth_pluck-4                      6\n",
       "xylophone                          5\n",
       "string_double_bass-6               5\n",
       "string_double_bass-4               5\n",
       "tuba                               5\n",
       "nylon_guitar-3                     5\n",
       "string_double_bass-5               5\n",
       "orgel                              5\n",
       "harp-3                             5\n",
       "tuba-4                             4\n",
       "string_cello-4                     4\n",
       "synth_bass_wobble-3                4\n",
       "electric_guitar_clean-2            4\n",
       "celesta-2                          4\n",
       "bell                               4\n",
       "string_ensemble-3                  3\n",
       "brass_ensemble-2                   3\n",
       "string_ensemble-4                  3\n",
       "synth_voice-3                      3\n",
       "synth_voice-2                      3\n",
       "synth_bass_wobble-2                3\n",
       "harp-4                             2\n",
       "synth_bass_wobble                  2\n",
       "synth_pad-15                       2\n",
       "synth_bass-5                       2\n",
       "string_ensemble-5                  2\n",
       "trombone-3                         2\n",
       "string_cello-5                     2\n",
       "harp-5                             2\n",
       "horn-2                             2\n",
       "trombone-4                         2\n",
       "tuba-6                             2\n",
       "synth_pad-13                       1\n",
       "string_violin-7                    1\n",
       "string_violin-6                    1\n",
       "string_violin-8                    1\n",
       "string_violin-5                    1\n",
       "string_violin-4                    1\n",
       "string_double_bass-1               1\n",
       "electric_guitar_clean-1            1\n",
       "electric_guitar_clean-3            1\n",
       "electric_guitar_clean-5            1\n",
       "synth_pad-11                       1\n",
       "synth_bass-6                       1\n",
       "string_viola-2                     1\n",
       "vibraphone-1                       1\n",
       "synth_pad-10                       1\n",
       "flute-1                            1\n",
       "synth_pad-9                        1\n",
       "flute-3                            1\n",
       "bassoon-1                          1\n",
       "synth_pad-12                       1\n",
       "synth_pad-8                        1\n",
       "string_cello-8                     1\n",
       "string_cello-6                     1\n",
       "string_cello-7                     1\n",
       "synth_bass-3                       1\n",
       "string_cello-1                     1\n",
       "glockenspiel-1                     1\n",
       "electric_guitar_clean-4            1\n",
       "Name: inst, dtype: int64"
      ]
     },
     "metadata": {},
     "output_type": "display_data"
    }
   ],
   "source": [
    "with pd.option_context('display.max_rows', None, 'display.max_columns', None):\n",
    "    display(df['inst'].value_counts())"
   ]
  }
 ],
 "metadata": {
  "kernelspec": {
   "display_name": "Python 3.8.5 ('.venv': venv)",
   "language": "python",
   "name": "python3"
  },
  "language_info": {
   "codemirror_mode": {
    "name": "ipython",
    "version": 3
   },
   "file_extension": ".py",
   "mimetype": "text/x-python",
   "name": "python",
   "nbconvert_exporter": "python",
   "pygments_lexer": "ipython3",
   "version": "3.8.5"
  },
  "orig_nbformat": 4,
  "vscode": {
   "interpreter": {
    "hash": "06f971c3e442a12536680bf6d7984ea8cd2d90a4a82da4f845c5d2d670198528"
   }
  }
 },
 "nbformat": 4,
 "nbformat_minor": 2
}
